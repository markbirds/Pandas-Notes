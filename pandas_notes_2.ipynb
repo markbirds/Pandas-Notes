{
 "cells": [
  {
   "cell_type": "markdown",
   "metadata": {},
   "source": [
    "<a id='top'></a>\n",
    "# Pandas Notes 2\n",
    "\n",
    "* [Reindexing and Renaming](#reindex)\n",
    "* [Iteration](#iteration)\n",
    "* [Sorting](#sorting)\n",
    "* [Working with Text Data](#text)\n",
    "* [Options and Customization](#options)"
   ]
  },
  {
   "cell_type": "markdown",
   "metadata": {},
   "source": [
    "<a id='reindex'></a>\n",
    "### Reindexing and Renaming\n",
    "[Back to top](#top)"
   ]
  },
  {
   "cell_type": "code",
   "execution_count": 3,
   "metadata": {},
   "outputs": [
    {
     "name": "stdout",
     "output_type": "stream",
     "text": [
      "Sample DataFrame:\n",
      "     A   B   C   D   E\n",
      "0  37   7  59  92  22\n",
      "1  28  51  89  83  50\n",
      "2  70  64  96  55  12\n",
      "3   6  24   6  93  86\n",
      "4  30  58  18  15  96\n",
      "5  67  24  93  13  20\n",
      "6  97  90   1  93  11\n",
      "7  84  61  55  43  98\n",
      "8  60  27  84  55  96\n",
      "9  39  36  84  48  59\n",
      "\n",
      "Use reindex to rearrange rows and columns:\n",
      "     E   C   A\n",
      "9  59  84  39\n",
      "6  11   1  97\n",
      "3  86   6   6\n",
      "0  22  59  37\n"
     ]
    }
   ],
   "source": [
    "import pandas as pd\n",
    "import numpy as np\n",
    "\n",
    "df = pd.DataFrame(np.random.randint(1,101,(10,5)),columns=np.array(list('ABCDE')))\n",
    "print('Sample DataFrame:\\n',df)\n",
    "\n",
    "print('\\nUse reindex to rearrange rows and columns:\\n',df.reindex(index=[9,6,3,0],columns=['E','C','A']))"
   ]
  },
  {
   "cell_type": "code",
   "execution_count": 7,
   "metadata": {},
   "outputs": [
    {
     "name": "stdout",
     "output_type": "stream",
     "text": [
      "Sample DataFrame:\n",
      "     A   B   C   D   E\n",
      "0  37   7  59  92  22\n",
      "1  28  51  89  83  50\n",
      "2  70  64  96  55  12\n",
      "3   6  24   6  93  86\n",
      "4  30  58  18  15  96\n",
      "5  67  24  93  13  20\n",
      "6  97  90   1  93  11\n",
      "7  84  61  55  43  98\n",
      "8  60  27  84  55  96\n",
      "9  39  36  84  48  59\n",
      "\n",
      "Rename Columns A,C and E:\n",
      "    Column A   B  Column C   D  Column E\n",
      "0        37   7        59  92        22\n",
      "1        28  51        89  83        50\n",
      "2        70  64        96  55        12\n",
      "3         6  24         6  93        86\n",
      "4        30  58        18  15        96\n",
      "5        67  24        93  13        20\n",
      "6        97  90         1  93        11\n",
      "7        84  61        55  43        98\n",
      "8        60  27        84  55        96\n",
      "9        39  36        84  48        59\n"
     ]
    }
   ],
   "source": [
    "print('Sample DataFrame:\\n',df)\n",
    "\n",
    "print('\\nRename Columns A,C and E:\\n',df.rename(columns={'A':'Column A','C':'Column C','E':'Column E'}))"
   ]
  },
  {
   "cell_type": "markdown",
   "metadata": {},
   "source": [
    "<a id='iteration'></a>\n",
    "### Iteration\n",
    "[Back to top](#top)"
   ]
  },
  {
   "cell_type": "code",
   "execution_count": 21,
   "metadata": {},
   "outputs": [
    {
     "name": "stdout",
     "output_type": "stream",
     "text": [
      "Using iteritems()\n",
      "\n",
      "A\n",
      "0    37\n",
      "1    28\n",
      "2    70\n",
      "Name: A, dtype: int32\n",
      "B\n",
      "0     7\n",
      "1    51\n",
      "2    64\n",
      "Name: B, dtype: int32\n",
      "C\n",
      "0    59\n",
      "1    89\n",
      "2    96\n",
      "Name: C, dtype: int32\n",
      "D\n",
      "0    92\n",
      "1    83\n",
      "2    55\n",
      "Name: D, dtype: int32\n",
      "E\n",
      "0    22\n",
      "1    50\n",
      "2    12\n",
      "Name: E, dtype: int32\n"
     ]
    }
   ],
   "source": [
    "print('Using iteritems()\\n')\n",
    "\n",
    "for column,values in df.iteritems():\n",
    "    print(column)\n",
    "    print(values[:3])"
   ]
  },
  {
   "cell_type": "code",
   "execution_count": 29,
   "metadata": {},
   "outputs": [
    {
     "name": "stdout",
     "output_type": "stream",
     "text": [
      "Using iterrows()\n",
      "\n",
      "0\n",
      "A    37\n",
      "B     7\n",
      "C    59\n",
      "Name: 0, dtype: int32\n",
      "1\n",
      "A    28\n",
      "B    51\n",
      "C    89\n",
      "Name: 1, dtype: int32\n",
      "2\n",
      "A    70\n",
      "B    64\n",
      "C    96\n",
      "Name: 2, dtype: int32\n"
     ]
    }
   ],
   "source": [
    "print('Using iterrows()\\n')\n",
    "\n",
    "for row_index,row in df.iterrows():\n",
    "    if row_index == 3: break\n",
    "    print(row_index)\n",
    "    print(row.iloc[0:3])"
   ]
  },
  {
   "cell_type": "code",
   "execution_count": 37,
   "metadata": {},
   "outputs": [
    {
     "name": "stdout",
     "output_type": "stream",
     "text": [
      "Using itertuples()\n",
      "\n",
      "Pandas(Index=0, A=37, B=7, C=59, D=92, E=22)\n",
      "Pandas(Index=1, A=28, B=51, C=89, D=83, E=50)\n",
      "Pandas(Index=2, A=70, B=64, C=96, D=55, E=12)\n",
      "Pandas(Index=3, A=6, B=24, C=6, D=93, E=86)\n",
      "Pandas(Index=4, A=30, B=58, C=18, D=15, E=96)\n",
      "Pandas(Index=5, A=67, B=24, C=93, D=13, E=20)\n",
      "Pandas(Index=6, A=97, B=90, C=1, D=93, E=11)\n",
      "Pandas(Index=7, A=84, B=61, C=55, D=43, E=98)\n",
      "Pandas(Index=8, A=60, B=27, C=84, D=55, E=96)\n",
      "Pandas(Index=9, A=39, B=36, C=84, D=48, E=59)\n"
     ]
    }
   ],
   "source": [
    "print('Using itertuples()\\n')\n",
    "\n",
    "for row in df.itertuples():\n",
    "    print(row)"
   ]
  },
  {
   "cell_type": "markdown",
   "metadata": {},
   "source": [
    "<a id='sorting'></a>\n",
    "### Sorting\n",
    "[Back to top](#top)"
   ]
  },
  {
   "cell_type": "code",
   "execution_count": 51,
   "metadata": {},
   "outputs": [
    {
     "name": "stdout",
     "output_type": "stream",
     "text": [
      "Unsorted Data Frame:\n",
      "\n",
      "    Column2  Column1\n",
      "1       83       82\n",
      "4       40       89\n",
      "6       51       19\n",
      "2       92       16\n",
      "3       20       29\n",
      "5       64       33\n",
      "9       50       58\n",
      "8      100       65\n",
      "0        6       58\n",
      "7        1       41\n",
      "\n",
      "Sorted by index:\n",
      "\n",
      "    Column2  Column1\n",
      "0        6       58\n",
      "1       83       82\n",
      "2       92       16\n",
      "3       20       29\n",
      "4       40       89\n",
      "5       64       33\n",
      "6       51       19\n",
      "7        1       41\n",
      "8      100       65\n",
      "9       50       58\n",
      "\n",
      "Sorted index and column:\n",
      "\n",
      "    Column1  Column2\n",
      "0       58        6\n",
      "1       82       83\n",
      "2       16       92\n",
      "3       29       20\n",
      "4       89       40\n",
      "5       33       64\n",
      "6       19       51\n",
      "7       41        1\n",
      "8       65      100\n",
      "9       58       50\n"
     ]
    }
   ],
   "source": [
    "unsorted_df=pd.DataFrame(np.random.randint(1,101,(10,2)),index=[1,4,6,2,3,5,9,8,0,7],columns=['Column2','Column1'])\n",
    "\n",
    "print('Unsorted Data Frame:\\n\\n',unsorted_df)\n",
    "\n",
    "print('\\nSorted by index:\\n\\n',unsorted_df.sort_index())\n",
    "\n",
    "print('\\nSorted index and column:\\n\\n',unsorted_df.sort_index().sort_index(axis=1))"
   ]
  },
  {
   "cell_type": "code",
   "execution_count": 56,
   "metadata": {},
   "outputs": [
    {
     "name": "stdout",
     "output_type": "stream",
     "text": [
      "Unsorted Data Frame:\n",
      "\n",
      "    Column2  Column1\n",
      "1        3        1\n",
      "4        4        3\n",
      "6        2        1\n",
      "2        4        2\n",
      "3        4        3\n",
      "5        4        1\n",
      "9        4        2\n",
      "8        4        4\n",
      "0        2        3\n",
      "7        3        4\n",
      "\n",
      "Sorted by Column1 then Column2:\n",
      "\n",
      "    Column1  Column2\n",
      "6        1        2\n",
      "1        1        3\n",
      "5        1        4\n",
      "2        2        4\n",
      "9        2        4\n",
      "0        3        2\n",
      "4        3        4\n",
      "3        3        4\n",
      "7        4        3\n",
      "8        4        4\n"
     ]
    }
   ],
   "source": [
    "unsorted_df=pd.DataFrame(np.random.randint(1,5,(10,2)),index=[1,4,6,2,3,5,9,8,0,7],columns=['Column2','Column1'])\n",
    "\n",
    "print('Unsorted Data Frame:\\n\\n',unsorted_df)\n",
    "\n",
    "print('\\nSorted by Column1 then Column2:\\n\\n',unsorted_df.sort_index(axis=1).sort_values(by=['Column1','Column2']))"
   ]
  },
  {
   "cell_type": "markdown",
   "metadata": {},
   "source": [
    "<a id='text'></a>\n",
    "### Working with Text Data\n",
    "[Back to top](#top)"
   ]
  },
  {
   "cell_type": "code",
   "execution_count": 82,
   "metadata": {},
   "outputs": [
    {
     "name": "stdout",
     "output_type": "stream",
     "text": [
      "Sample Series: ['Tom' 'William Rick' 'John' 'Alber@t' nan '1234' 'SteveSmith']\n",
      "\n",
      "lower(): ['tom' 'william rick' 'john' 'alber@t' nan '1234' 'stevesmith']\n",
      "upper(): ['TOM' 'WILLIAM RICK' 'JOHN' 'ALBER@T' nan '1234' 'STEVESMITH']\n",
      "len(): [ 3. 12.  4.  7. nan  4. 10.]\n",
      "cat(): TompandasWilliam RickpandasJohnpandasAlber@tpandas1234pandasSteveSmith\n",
      "contains(): [True False True False nan False False]\n",
      "replace(): ['Tom' 'William Rick' 'John' 'Alber@t' nan '5678' 'SteveSmith']\n",
      "count(): [ 1.  1.  0.  0. nan  0.  1.]\n",
      "find(): [ 2.  6. -1. -1. nan -1.  6.]\n"
     ]
    }
   ],
   "source": [
    "string = pd.Series(['Tom', 'William Rick', 'John', 'Alber@t', np.nan, '1234','SteveSmith'])\n",
    "\n",
    "print('Sample Series:',string.values)\n",
    "\n",
    "print('\\nlower():',string.str.lower().values)\n",
    "print('upper():',string.str.upper().values)\n",
    "print('len():',string.str.len().values)\n",
    "print('cat():',string.str.cat(sep='pandas'))\n",
    "print('contains():',string.str.contains('[A-Za-z]o[A-Za-z]*').values)\n",
    "print('replace():',string.str.replace('1234','5678').values)\n",
    "print('count():',string.str.count('m').values)\n",
    "print('find():',string.str.find('m').values)"
   ]
  },
  {
   "cell_type": "code",
   "execution_count": 88,
   "metadata": {},
   "outputs": [
    {
     "name": "stdout",
     "output_type": "stream",
     "text": [
      "Other functions:\n",
      "\n",
      " ['capitalize', 'cat', 'center', 'contains', 'count', 'decode', 'encode', 'endswith', 'extract', 'extractall', 'find', 'findall', 'get', 'get_dummies', 'index', 'isalnum', 'isalpha', 'isdecimal', 'isdigit', 'islower', 'isnumeric', 'isspace', 'istitle', 'isupper', 'join', 'len', 'ljust', 'lower', 'lstrip', 'match', 'normalize', 'pad', 'partition', 'repeat', 'replace', 'rfind', 'rindex', 'rjust', 'rpartition', 'rsplit', 'rstrip', 'slice', 'slice_replace', 'split', 'startswith', 'strip', 'swapcase', 'title', 'translate', 'upper', 'wrap', 'zfill']\n"
     ]
    }
   ],
   "source": [
    "print('Other functions:\\n\\n',list(filter(lambda x: x[0]!='_',dir(pd.Series.str))))"
   ]
  },
  {
   "cell_type": "markdown",
   "metadata": {},
   "source": [
    "<a id='options'></a>\n",
    "### Options and Customization\n",
    "[Back to top](#top)"
   ]
  },
  {
   "cell_type": "code",
   "execution_count": 118,
   "metadata": {},
   "outputs": [
    {
     "name": "stdout",
     "output_type": "stream",
     "text": [
      "get_option()\n",
      "\n",
      "Default maximum rows: 60\n",
      "Default maximum columns: 20\n",
      "Default precision for decimal numbers: 6\n"
     ]
    }
   ],
   "source": [
    "print('get_option()\\n')\n",
    "\n",
    "print('Default maximum rows:',pd.get_option(\"display.max_rows\"))\n",
    "print('Default maximum columns:',pd.get_option(\"display.max_columns\"))\n",
    "print('Default precision for decimal numbers:',pd.get_option(\"display.precision\"))"
   ]
  },
  {
   "cell_type": "code",
   "execution_count": 120,
   "metadata": {},
   "outputs": [
    {
     "name": "stdout",
     "output_type": "stream",
     "text": [
      "set_option()\n",
      "\n",
      "Setting maximum rows to 120: 120\n",
      "Setting maximum columns to 40: 40\n",
      "Setting precision for decimal numbers to 2: 2\n"
     ]
    }
   ],
   "source": [
    "print('set_option()\\n')\n",
    "\n",
    "pd.set_option(\"display.max_rows\",120)\n",
    "pd.set_option(\"display.max_columns\",40)\n",
    "pd.set_option(\"display.precision\",2)\n",
    "\n",
    "print('Setting maximum rows to 120:',pd.get_option(\"display.max_rows\"))\n",
    "print('Setting maximum columns to 40:',pd.get_option(\"display.max_columns\"))\n",
    "print('Setting precision for decimal numbers to 2:',pd.get_option(\"display.precision\"))"
   ]
  },
  {
   "cell_type": "code",
   "execution_count": 122,
   "metadata": {},
   "outputs": [
    {
     "name": "stdout",
     "output_type": "stream",
     "text": [
      "reset_option()\n",
      "\n",
      "Resetting maximum rows: 60\n",
      "Resetting maximum columns: 20\n",
      "Resetting precision for decimal numbers: 6\n"
     ]
    }
   ],
   "source": [
    "print('reset_option()\\n')\n",
    "\n",
    "pd.reset_option(\"display.max_rows\")\n",
    "pd.reset_option(\"display.max_columns\")\n",
    "pd.reset_option(\"display.precision\")\n",
    "\n",
    "print('Resetting maximum rows:',pd.get_option(\"display.max_rows\"))\n",
    "print('Resetting maximum columns:',pd.get_option(\"display.max_columns\"))\n",
    "print('Resetting precision for decimal numbers:',pd.get_option(\"display.precision\"))"
   ]
  },
  {
   "cell_type": "code",
   "execution_count": 125,
   "metadata": {},
   "outputs": [
    {
     "name": "stdout",
     "output_type": "stream",
     "text": [
      "describe_option()\n",
      "\n",
      "Describe display.max_rows:\n",
      "\n",
      "display.max_rows : int\n",
      "    If max_rows is exceeded, switch to truncate view. Depending on\n",
      "    `large_repr`, objects are either centrally truncated or printed as\n",
      "    a summary view. 'None' value means unlimited.\n",
      "\n",
      "    In case python/IPython is running in a terminal and `large_repr`\n",
      "    equals 'truncate' this can be set to 0 and pandas will auto-detect\n",
      "    the height of the terminal and print a truncated object which fits\n",
      "    the screen height. The IPython notebook, IPython qtconsole, or\n",
      "    IDLE do not run in a terminal and hence it is not possible to do\n",
      "    correct auto-detection.\n",
      "    [default: 60] [currently: 60]\n",
      "\n",
      "\n",
      "Describe display.max_columns:\n",
      "\n",
      "display.max_columns : int\n",
      "    If max_cols is exceeded, switch to truncate view. Depending on\n",
      "    `large_repr`, objects are either centrally truncated or printed as\n",
      "    a summary view. 'None' value means unlimited.\n",
      "\n",
      "    In case python/IPython is running in a terminal and `large_repr`\n",
      "    equals 'truncate' this can be set to 0 and pandas will auto-detect\n",
      "    the width of the terminal and print a truncated object which fits\n",
      "    the screen width. The IPython notebook, IPython qtconsole, or IDLE\n",
      "    do not run in a terminal and hence it is not possible to do\n",
      "    correct auto-detection.\n",
      "    [default: 20] [currently: 20]\n",
      "\n",
      "\n",
      "Describe display.precision:\n",
      "\n",
      "display.precision : int\n",
      "    Floating point output precision (number of significant digits). This is\n",
      "    only a suggestion\n",
      "    [default: 6] [currently: 6]\n",
      "\n",
      "\n"
     ]
    }
   ],
   "source": [
    "print('describe_option()\\n')\n",
    "\n",
    "print('Describe display.max_rows:\\n')\n",
    "pd.describe_option(\"display.max_rows\")\n",
    "print('Describe display.max_columns:\\n')\n",
    "pd.describe_option(\"display.max_columns\")\n",
    "print('Describe display.precision:\\n')\n",
    "pd.describe_option(\"display.precision\")"
   ]
  }
 ],
 "metadata": {
  "kernelspec": {
   "display_name": "Python 3",
   "language": "python",
   "name": "python3"
  },
  "language_info": {
   "codemirror_mode": {
    "name": "ipython",
    "version": 3
   },
   "file_extension": ".py",
   "mimetype": "text/x-python",
   "name": "python",
   "nbconvert_exporter": "python",
   "pygments_lexer": "ipython3",
   "version": "3.7.3"
  }
 },
 "nbformat": 4,
 "nbformat_minor": 2
}
